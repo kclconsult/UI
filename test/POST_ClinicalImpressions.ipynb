{
 "cells": [
  {
   "cell_type": "code",
   "execution_count": 1,
   "metadata": {},
   "outputs": [],
   "source": [
    "import requests\n",
    "import datetime"
   ]
  },
  {
   "cell_type": "code",
   "execution_count": 2,
   "metadata": {},
   "outputs": [],
   "source": [
    "format   = \"%Y-%m-%dT%H:%M:%SZ\"\n",
    "start_dt = datetime.datetime.strptime(\"2016-02-26T00:00:00Z\", format)\n",
    "end_dt   = datetime.datetime.strptime(\"2020-02-28T00:00:00Z\", format)"
   ]
  },
  {
   "cell_type": "code",
   "execution_count": 3,
   "metadata": {},
   "outputs": [
    {
     "data": {
      "text/plain": [
       "'2019-08-14T16:36:39Z'"
      ]
     },
     "execution_count": 3,
     "metadata": {},
     "output_type": "execute_result"
    }
   ],
   "source": [
    "datetime.datetime.now().strftime(format)"
   ]
  },
  {
   "cell_type": "code",
   "execution_count": 4,
   "metadata": {},
   "outputs": [
    {
     "data": {
      "text/plain": [
       "{'subjectReference': '3e2dab80-b847-11e9-8e30-f5388ac63e8b',\n",
       " '285854004': 'tired'}"
      ]
     },
     "execution_count": 4,
     "metadata": {},
     "output_type": "execute_result"
    }
   ],
   "source": [
    "# ClinicalImpressions\n",
    "post_url = \"http://ec2-3-9-227-22.eu-west-2.compute.amazonaws.com:3005/ClinicalImpression/add\"\n",
    "\n",
    "# POST a Clinical Impression\n",
    "data = {\n",
    "    \"note\"\n",
    "    \"subjectReference\": \"3e2dab80-b847-11e9-8e30-f5388ac63e8b\",\n",
    "    \"285854004\": \"tired\"\n",
    "}\n",
    "data"
   ]
  },
  {
   "cell_type": "code",
   "execution_count": 28,
   "metadata": {},
   "outputs": [
    {
     "data": {
      "text/plain": [
       "(200, 'OK')"
      ]
     },
     "execution_count": 28,
     "metadata": {},
     "output_type": "execute_result"
    }
   ],
   "source": [
    "r = requests.post(post_url, data=data)\n",
    "r.status_code, r.text"
   ]
  },
  {
   "cell_type": "code",
   "execution_count": 30,
   "metadata": {},
   "outputs": [],
   "source": [
    "# GET a Mood\n",
    "plus_day  = datetime.datetime.now() + datetime.timedelta(days=1)\n",
    "minus_day = datetime.datetime.now() - datetime.timedelta(days=1)\n"
   ]
  },
  {
   "cell_type": "code",
   "execution_count": 31,
   "metadata": {},
   "outputs": [
    {
     "name": "stdout",
     "output_type": "stream",
     "text": [
      "http://ec2-3-9-227-22.eu-west-2.compute.amazonaws.com:3005/Observation/3e2dab80-b847-11e9-8e30-f5388ac63e8b/285854004/2019-08-13T16:26:26Z/2019-08-15T16:26:26Z\n"
     ]
    }
   ],
   "source": [
    "u = get_observation_url(code=\"285854004\", start=minus_day.strftime(format),end=plus_day.strftime(format))\n",
    "print(u)\n"
   ]
  },
  {
   "cell_type": "code",
   "execution_count": 32,
   "metadata": {},
   "outputs": [
    {
     "name": "stdout",
     "output_type": "stream",
     "text": [
      "400\n"
     ]
    }
   ],
   "source": [
    "r2 = requests.get(u)\n",
    "print(r2.status_code)"
   ]
  }
 ],
 "metadata": {
  "kernelspec": {
   "display_name": "Python 3",
   "language": "python",
   "name": "python3"
  },
  "language_info": {
   "codemirror_mode": {
    "name": "ipython",
    "version": 3
   },
   "file_extension": ".py",
   "mimetype": "text/x-python",
   "name": "python",
   "nbconvert_exporter": "python",
   "pygments_lexer": "ipython3",
   "version": "3.7.4"
  }
 },
 "nbformat": 4,
 "nbformat_minor": 2
}
